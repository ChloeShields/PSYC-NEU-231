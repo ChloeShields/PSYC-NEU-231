{
 "cells": [
  {
   "cell_type": "markdown",
   "metadata": {},
   "source": [
    "## EXERCISES\n",
    "\n",
    "### Vector Multiplication\n",
    "1. Produce 2 vectors, one with integers in the range [5,10] and the other [15,20] using the np.arange function\n",
    "1. Without using any functions from the numpy module\n",
    "    1. Compute the outer product of those vectors \n",
    "    1. Compute the \"trace\" of the resulting matrix\n",
    "    \n",
    "    ![trace](https://wikimedia.org/api/rest_v1/media/math/render/svg/3e5b6e82272fc5eeca6d510388e0a2bd0a6c6463)\n",
    "    \n",
    "    \n",
    "Complete the same items using numpy operations"
   ]
  },
  {
   "cell_type": "code",
   "execution_count": 123,
   "metadata": {
    "scrolled": true
   },
   "outputs": [
    {
     "name": "stdout",
     "output_type": "stream",
     "text": [
      "Get the outer product WITHOUT using numpy\n",
      "\n",
      "Vector with range [5,10]:\n",
      " [5 6 7 8 9]\n",
      "\n",
      "Vector with range [15,20]:\n",
      " [15 16 17 18 19]\n",
      "\n",
      "Outer product of the above vectors:\n"
     ]
    },
    {
     "data": {
      "text/plain": [
       "[[75, 80, 85, 90, 95],\n",
       " [90, 96, 102, 108, 114],\n",
       " [105, 112, 119, 126, 133],\n",
       " [120, 128, 136, 144, 152],\n",
       " [135, 144, 153, 162, 171]]"
      ]
     },
     "execution_count": 123,
     "metadata": {},
     "output_type": "execute_result"
    }
   ],
   "source": [
    "print(\"Get the outer product WITHOUT using numpy\\n\")\n",
    "# import library\n",
    "import numpy as np\n",
    "\n",
    "# create 2 vectors with ranges [5,10] and [15,20]\n",
    "vectorDragon = np.arange(5,10)\n",
    "vectorWizard = np.arange(15,20)\n",
    "\n",
    "print(\"Vector with range [5,10]:\\n\",vectorDragon)\n",
    "print(\"\\nVector with range [15,20]:\\n\",vectorWizard)\n",
    "\n",
    "# create empty list to contain outer product\n",
    "outerProduct = []\n",
    "\n",
    "# boolean expression: if condition returns true, keep going\n",
    "# if not, print error code\n",
    "assert (len(vectorDragon)==len(vectorWizard)), \"Lists aren't the same length\"\n",
    "\n",
    "for i in range(len(vectorDragon)):\n",
    "    row = []\n",
    "    for j in range(len(vectorWizard)):\n",
    "        row.append(vectorDragon[i]*vectorWizard[j])\n",
    "    outerProduct.append(row)\n",
    "\n",
    "print(\"\\nOuter product of the above vectors:\") \n",
    "outerProduct"
   ]
  },
  {
   "cell_type": "code",
   "execution_count": 184,
   "metadata": {},
   "outputs": [
    {
     "name": "stdout",
     "output_type": "stream",
     "text": [
      "Get the trace WITHOUT using numpy\n",
      "\n",
      "\n",
      "Trace: 605\n"
     ]
    }
   ],
   "source": [
    "print(\"Get the trace WITHOUT using numpy\\n\")\n",
    "\n",
    "# from first row, take 0th element\n",
    "# from second row, add 0 + 0+1 element\n",
    "\n",
    "trace = 0\n",
    "\n",
    "for i in range(len(outerProduct)):\n",
    "    trace += (M[i][i])\n",
    "    \n",
    "print(\"\\nTrace:\",trace)"
   ]
  },
  {
   "cell_type": "code",
   "execution_count": 33,
   "metadata": {},
   "outputs": [
    {
     "name": "stdout",
     "output_type": "stream",
     "text": [
      "Get the outer product using numpy\n",
      "\n"
     ]
    },
    {
     "data": {
      "text/plain": [
       "array([[ 75,  80,  85,  90,  95],\n",
       "       [ 90,  96, 102, 108, 114],\n",
       "       [105, 112, 119, 126, 133],\n",
       "       [120, 128, 136, 144, 152],\n",
       "       [135, 144, 153, 162, 171]])"
      ]
     },
     "execution_count": 33,
     "metadata": {},
     "output_type": "execute_result"
    }
   ],
   "source": [
    "print(\"Get the outer product using numpy\\n\")\n",
    "\n",
    "outerProductNP = np.outer(vectorDragon,vectorWizard)\n",
    "outerProductNP"
   ]
  },
  {
   "cell_type": "code",
   "execution_count": 183,
   "metadata": {},
   "outputs": [
    {
     "name": "stdout",
     "output_type": "stream",
     "text": [
      "Get the trace using numpy\n",
      "\n",
      "Trace: 605\n"
     ]
    }
   ],
   "source": [
    "print(\"Get the trace using numpy\\n\")\n",
    "traceNP = np.trace(outerProductNP)\n",
    "print(\"Trace:\",traceNP)"
   ]
  },
  {
   "cell_type": "markdown",
   "metadata": {},
   "source": [
    "### Matrix Multiplication\n",
    "* Two matricies can be multiplied if their inner dimensions match (eg. 2x3 * 3x5 -> 2x5). The best rule for working with and mutliplying matricies is to remember (rows x columns). This applies to both the dimensions of a matrix (a 2x3 matrix has 2 rows and 3 columns) as well as multiplication (you multiply the rows of the first matrix by the columns of the second). \n",
    "\n",
    "* When multiplying two matricies of dimension (M x N)*(N x P) the resulting matrix is (M x P). The upper element of the reslting matrix is the inner (or dot) product of the first row of the first matrix and the first column of the second matrix\n",
    "\n",
    "![two matrices](https://wikimedia.org/api/rest_v1/media/math/render/svg/16b1644351bc2041175b19cbc65da03ef78130c7)\n",
    "\n",
    "![store product in matrix C](https://wikimedia.org/api/rest_v1/media/math/render/svg/00ac0c831c365b7424cc43239aae8cebea27c56c)\n",
    "\n",
    "![matrix multiply](https://wikimedia.org/api/rest_v1/media/math/render/svg/3cfeccef1c8c7e6da0ddf08daed8dbf3c6f50c5e)\n",
    "\n",
    "for i = 1, ..., n and j = 1, ..., p.\n",
    "\n",
    "1. Make two matrices of random numbers (A and B). A should be a 4x3 matrix and B should be a 3x4 matrix. Multiply A by B using (to a resulting matrix C) using:\n",
    "    1. a conventional for-loop\n",
    "    1. list comprehension\n",
    "    1. numpy operator\n",
    "    \n",
    "\n",
    "2. After you have C, pull out the upper quadrant using fancy indexing, and then replace the main diagonal (upper left to lower right) with 0s. "
   ]
  },
  {
   "cell_type": "code",
   "execution_count": 229,
   "metadata": {},
   "outputs": [
    {
     "name": "stdout",
     "output_type": "stream",
     "text": [
      "Matrix A\n",
      " [[0.29362859 0.36391101 0.9991638 ]\n",
      " [0.05221461 0.04154579 0.90238996]\n",
      " [0.1526486  0.88882647 0.08633755]\n",
      " [0.69976527 0.91181885 0.92449441]]\n",
      "\n",
      "Matrix B\n",
      " [[0.93170519 0.64974679 0.39057242 0.9867212 ]\n",
      " [0.73697589 0.44627179 0.76022595 0.60615017]\n",
      " [0.95207163 0.28204169 0.47584255 0.2247583 ]]\n",
      "\n",
      "Method 1 - For loop\n",
      "\n",
      "range(0, 4)\n",
      "0.36712188525755274\n",
      "\n",
      "Method 2 - List comprehension\n",
      "\n",
      "\n",
      "Method 3 - Numpy operator\n",
      "\n",
      "[[1.49304442 0.6349933  0.86678247 0.73488463]\n",
      " [0.93840674 0.30697858 0.48137331 0.27952387]\n",
      " [0.87946671 0.52019191 0.77641237 0.70878901]\n",
      " [2.20414833 1.12233523 1.40641114 1.45096016]]\n"
     ]
    }
   ],
   "source": [
    "# When they say \"inner dimensions match,\" they mean the two values\n",
    "# on the inside literally. i.e. 2x3 * 3x5 --> the threes match\n",
    "\n",
    "# rows x columns -->\n",
    "# we're multiplying the ROWS of matrix A by the COLUMNS of matrix B\n",
    "# and then summing those values from one combined row and column\n",
    "\n",
    "matrixShark = np.random.rand(4,3)\n",
    "matrixFish = np.random.rand(3,4)\n",
    "\n",
    "print(\"Matrix A\\n\",matrixShark)\n",
    "print(\"\\nMatrix B\\n\",matrixFish)\n",
    "\n",
    "print(\"\\nMethod 1 - For loop\\n\")\n",
    "\n",
    "print(range(len(matrixShark)))\n",
    "\n",
    "x = [0]\n",
    "\n",
    "for i in range(len(matrixFish)):\n",
    "    for i in range(len(matrixShark)):\n",
    "        x.append(matrixFish[0][i] * matrixShark[i][0])\n",
    "\n",
    "print(sum(x[0:4]))\n",
    "\n",
    "print(\"\\nMethod 2 - List comprehension\\n\")\n",
    "\n",
    "\n",
    "\n",
    "print(\"\\nMethod 3 - Numpy operator\\n\")\n",
    "\n",
    "print(np.dot(matrixShark,matrixFish))"
   ]
  },
  {
   "cell_type": "code",
   "execution_count": null,
   "metadata": {},
   "outputs": [],
   "source": []
  }
 ],
 "metadata": {
  "kernelspec": {
   "display_name": "Python 3",
   "language": "python",
   "name": "python3"
  },
  "language_info": {
   "codemirror_mode": {
    "name": "ipython",
    "version": 3
   },
   "file_extension": ".py",
   "mimetype": "text/x-python",
   "name": "python",
   "nbconvert_exporter": "python",
   "pygments_lexer": "ipython3",
   "version": "3.6.5"
  }
 },
 "nbformat": 4,
 "nbformat_minor": 2
}
