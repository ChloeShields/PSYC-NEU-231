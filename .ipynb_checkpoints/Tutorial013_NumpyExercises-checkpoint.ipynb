{
 "cells": [
  {
   "cell_type": "markdown",
   "metadata": {},
   "source": [
    "## EXERCISES\n",
    "\n",
    "### Vector Multiplication\n",
    "1. Produce 2 vectors, one with integers in the range [5,10] and the other [15,20] using the np.arange function\n",
    "1. Without using any functions from the numpy module\n",
    "    1. Compute the outer product of those vectors \n",
    "    1. Compute the \"trace\" of the resulting matrix\n",
    "    \n",
    "    ![trace](https://wikimedia.org/api/rest_v1/media/math/render/svg/3e5b6e82272fc5eeca6d510388e0a2bd0a6c6463)\n",
    "    \n",
    "    \n",
    "Complete the same items using numpy operations"
   ]
  },
  {
   "cell_type": "code",
   "execution_count": 14,
   "metadata": {
    "scrolled": true
   },
   "outputs": [
    {
     "name": "stdout",
     "output_type": "stream",
     "text": [
      "Get the outer product WITHOUT using numpy\n",
      "\n",
      "Vector with range [5,10]:\n",
      " [5 6 7 8 9]\n",
      "\n",
      "Vector with range [15,20]:\n",
      " [15 16 17 18 19]\n",
      "\n",
      "Outer product of the above vectors:\n"
     ]
    },
    {
     "data": {
      "text/plain": [
       "[[75, 80, 85, 90, 95],\n",
       " [90, 96, 102, 108, 114],\n",
       " [105, 112, 119, 126, 133],\n",
       " [120, 128, 136, 144, 152],\n",
       " [135, 144, 153, 162, 171]]"
      ]
     },
     "execution_count": 14,
     "metadata": {},
     "output_type": "execute_result"
    }
   ],
   "source": [
    "print(\"Get the outer product WITHOUT using numpy\\n\")\n",
    "# import library\n",
    "import numpy as np\n",
    "\n",
    "# create 2 vectors with ranges [5,10] and [15,20]\n",
    "vectorDragon = np.arange(5,10)\n",
    "vectorWizard = np.arange(15,20)\n",
    "\n",
    "print(\"Vector with range [5,10]:\\n\",vectorDragon)\n",
    "print(\"\\nVector with range [15,20]:\\n\",vectorWizard)\n",
    "\n",
    "# create empty list to contain outer product\n",
    "outerProduct = []\n",
    "\n",
    "# boolean expression: if condition returns true, keep going\n",
    "# if not, print error code\n",
    "assert (len(vectorDragon)==len(vectorWizard)), \"Lists aren't the same length\"\n",
    "\n",
    "for i in range(len(vectorDragon)):\n",
    "    row = []\n",
    "    for j in range(len(vectorWizard)):\n",
    "        row.append(vectorDragon[i]*vectorWizard[j])\n",
    "    outerProduct.append(row)\n",
    "\n",
    "print(\"\\nOuter product of the above vectors:\") \n",
    "outerProduct"
   ]
  },
  {
   "cell_type": "code",
   "execution_count": 9,
   "metadata": {},
   "outputs": [
    {
     "name": "stdout",
     "output_type": "stream",
     "text": [
      "Get the trace WITHOUT using numpy\n",
      "\n",
      "\n",
      "Trace: 605\n"
     ]
    }
   ],
   "source": [
    "print(\"Get the trace WITHOUT using numpy\\n\")\n",
    "\n",
    "trace = 0\n",
    "\n",
    "for i in range(len(outerProduct)):\n",
    "    trace += (outerProduct[i][i])\n",
    "    \n",
    "print(\"\\nTrace:\",trace)"
   ]
  },
  {
   "cell_type": "code",
   "execution_count": 10,
   "metadata": {},
   "outputs": [
    {
     "name": "stdout",
     "output_type": "stream",
     "text": [
      "Get the outer product using numpy\n",
      "\n"
     ]
    },
    {
     "data": {
      "text/plain": [
       "array([[ 75,  80,  85,  90,  95],\n",
       "       [ 90,  96, 102, 108, 114],\n",
       "       [105, 112, 119, 126, 133],\n",
       "       [120, 128, 136, 144, 152],\n",
       "       [135, 144, 153, 162, 171]])"
      ]
     },
     "execution_count": 10,
     "metadata": {},
     "output_type": "execute_result"
    }
   ],
   "source": [
    "print(\"Get the outer product using numpy\\n\")\n",
    "\n",
    "outerProductNP = np.outer(vectorDragon,vectorWizard)\n",
    "outerProductNP"
   ]
  },
  {
   "cell_type": "code",
   "execution_count": 11,
   "metadata": {},
   "outputs": [
    {
     "name": "stdout",
     "output_type": "stream",
     "text": [
      "Get the trace using numpy\n",
      "\n",
      "Trace: 605\n"
     ]
    }
   ],
   "source": [
    "print(\"Get the trace using numpy\\n\")\n",
    "traceNP = np.trace(outerProductNP)\n",
    "print(\"Trace:\",traceNP)"
   ]
  },
  {
   "cell_type": "markdown",
   "metadata": {},
   "source": [
    "### Matrix Multiplication\n",
    "* Two matricies can be multiplied if their inner dimensions match (eg. 2x3 * 3x5 -> 2x5). The best rule for working with and mutliplying matricies is to remember (rows x columns). This applies to both the dimensions of a matrix (a 2x3 matrix has 2 rows and 3 columns) as well as multiplication (you multiply the rows of the first matrix by the columns of the second). \n",
    "\n",
    "* When multiplying two matricies of dimension (M x N)*(N x P) the resulting matrix is (M x P). The upper element of the reslting matrix is the inner (or dot) product of the first row of the first matrix and the first column of the second matrix\n",
    "\n",
    "![two matrices](https://wikimedia.org/api/rest_v1/media/math/render/svg/16b1644351bc2041175b19cbc65da03ef78130c7)\n",
    "\n",
    "![store product in matrix C](https://wikimedia.org/api/rest_v1/media/math/render/svg/00ac0c831c365b7424cc43239aae8cebea27c56c)\n",
    "\n",
    "![matrix multiply](https://wikimedia.org/api/rest_v1/media/math/render/svg/3cfeccef1c8c7e6da0ddf08daed8dbf3c6f50c5e)\n",
    "\n",
    "for i = 1, ..., n and j = 1, ..., p.\n",
    "\n",
    "1. Make two matrices of random numbers (A and B). A should be a 4x3 matrix and B should be a 3x4 matrix. Multiply A by B using (to a resulting matrix C) using:\n",
    "    1. a conventional for-loop\n",
    "    1. list comprehension\n",
    "    1. numpy operator\n",
    "    \n",
    "\n",
    "2. After you have C, pull out the upper quadrant using fancy indexing, and then replace the main diagonal (upper left to lower right) with 0s. "
   ]
  },
  {
   "cell_type": "code",
   "execution_count": 56,
   "metadata": {},
   "outputs": [
    {
     "name": "stdout",
     "output_type": "stream",
     "text": [
      "Matrix A\n",
      " [[0.04051413 0.23693848 0.20964821]\n",
      " [0.13340629 0.49816127 0.04047622]\n",
      " [0.05369146 0.44556422 0.91171691]\n",
      " [0.85044547 0.99244325 0.09238105]]\n",
      "\n",
      "Matrix B\n",
      " [[0.64283493 0.57183816 0.05770205 0.74909811]\n",
      " [0.99367219 0.05930598 0.78822784 0.89664222]\n",
      " [0.59359138 0.76607687 0.47057855 0.24387895]]\n",
      "\n",
      "Method 1 - For loop\n",
      "\n",
      "[0.3859284419393945, 0.1978260368197875, 0.28775520148325995, 0.29392688424907043]\n",
      "[0.6047935568276852, 0.13683864595356557, 0.419409634530747, 0.55647812057988]\n",
      "[1.0184468158285336, 0.7555726833246904, 0.7833386497673416, 0.6620804260269991]\n",
      "[1.5876959074784789, 0.6159459753318072, 0.8748163821392022, 1.5494634025435006]\n",
      "\n",
      "Method 2 - List comprehension\n",
      "\n",
      "\n",
      "Method 3 - Numpy operator\n",
      "\n",
      "[[0.38592844 0.19782604 0.2877552  0.29392688]\n",
      " [0.60479356 0.13683865 0.41940963 0.55647812]\n",
      " [1.01844682 0.75557268 0.78333865 0.66208043]\n",
      " [1.58769591 0.61594598 0.87481638 1.5494634 ]]\n"
     ]
    }
   ],
   "source": [
    "# When they say \"inner dimensions match,\" they mean the two values\n",
    "# on the inside literally. i.e. 2x3 * 3x5 --> the threes match\n",
    "\n",
    "# rows x columns -->\n",
    "# we're multiplying the ROWS of matrix A by the COLUMNS of matrix B\n",
    "# and then summing those values from one combined row and column\n",
    "\n",
    "# The result of matrix multiplication will have rows = rows of first matrix\n",
    "# and columns = columns of second matrix\n",
    "\n",
    "A = np.random.rand(4,3)\n",
    "B = np.random.rand(3,4)\n",
    "\n",
    "print(\"Matrix A\\n\",A)\n",
    "print(\"\\nMatrix B\\n\",B)\n",
    "\n",
    "print(\"\\nMethod 1 - For loop\\n\")\n",
    "\n",
    "C = [[0,0,0,0],\n",
    "     [0,0,0,0],\n",
    "     [0,0,0,0],\n",
    "     [0,0,0,0]]\n",
    "\n",
    "for i in range(len(A)):\n",
    "    for j in range(len(B[0])):\n",
    "        for k in range(len(B)):\n",
    "            C[i][j] += A[i][k] * B[k][j]\n",
    "\n",
    "for i in C:\n",
    "    print(i)\n",
    "            \n",
    "print(\"\\nMethod 2 - List comprehension\\n\")\n",
    "\n",
    "\n",
    "\n",
    "print(\"\\nMethod 3 - Numpy operator\\n\")\n",
    "\n",
    "print(np.dot(A,B))"
   ]
  },
  {
   "cell_type": "code",
   "execution_count": null,
   "metadata": {},
   "outputs": [],
   "source": []
  }
 ],
 "metadata": {
  "kernelspec": {
   "display_name": "Python 3",
   "language": "python",
   "name": "python3"
  },
  "language_info": {
   "codemirror_mode": {
    "name": "ipython",
    "version": 3
   },
   "file_extension": ".py",
   "mimetype": "text/x-python",
   "name": "python",
   "nbconvert_exporter": "python",
   "pygments_lexer": "ipython3",
   "version": "3.6.5"
  }
 },
 "nbformat": 4,
 "nbformat_minor": 2
}
