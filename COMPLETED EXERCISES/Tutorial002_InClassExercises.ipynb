{
 "cells": [
  {
   "cell_type": "markdown",
   "metadata": {},
   "source": [
    "# In class exercises for Tutorial00 intro to jupyter and python basics"
   ]
  },
  {
   "cell_type": "markdown",
   "metadata": {},
   "source": [
    "## Exercise 1\n",
    "1. Create a list (my_list) with values from 1 to 100\n",
    "1. Print every 4th value from 20 to 80\n",
    "1. Print the above sequence backwards\n",
    "1. Compute the sum of the above sequence (hint: there is a built in function 'sum')"
   ]
  },
  {
   "cell_type": "code",
   "execution_count": 73,
   "metadata": {},
   "outputs": [
    {
     "name": "stdout",
     "output_type": "stream",
     "text": [
      "1.1\n",
      " [1, 2, 3, 4, 5, 6, 7, 8, 9, 10, 11, 12, 13, 14, 15, 16, 17, 18, 19, 20, 21, 22, 23, 24, 25, 26, 27, 28, 29, 30, 31, 32, 33, 34, 35, 36, 37, 38, 39, 40, 41, 42, 43, 44, 45, 46, 47, 48, 49, 50, 51, 52, 53, 54, 55, 56, 57, 58, 59, 60, 61, 62, 63, 64, 65, 66, 67, 68, 69, 70, 71, 72, 73, 74, 75, 76, 77, 78, 79, 80, 81, 82, 83, 84, 85, 86, 87, 88, 89, 90, 91, 92, 93, 94, 95, 96, 97, 98, 99, 100]\n",
      "\n",
      "1.2\n",
      " [20, 24, 28, 32, 36, 40, 44, 48, 52, 56, 60, 64, 68, 72, 76, 80]\n",
      "\n",
      "1.3\n",
      " [80, 76, 72, 68, 64, 60, 56, 52, 48, 44, 40, 36, 32, 28, 24, 20]\n",
      "\n",
      "1.4\n",
      "adding it all up = 5050\n"
     ]
    }
   ],
   "source": [
    "# 1.1\n",
    "my_list = list(range(1,101))\n",
    "print(\"1.1\\n\",my_list)\n",
    "\n",
    "# 1.2\n",
    "print(\"\\n1.2\\n\",my_list[19:80:4])\n",
    "\n",
    "# 1.3\n",
    "print(\"\\n1.3\\n\",my_list[79:18:-4])\n",
    "\n",
    "# 1.4\n",
    "my_list_summed = sum(my_list)\n",
    "print(\"\\n1.4\\nadding it all up =\", my_list_summed)"
   ]
  },
  {
   "cell_type": "markdown",
   "metadata": {},
   "source": [
    "## Exercise 2\n",
    "Tuples are often used to pass values into functions. One nice feature is that their values can be passed to multiple variables at once, for example:\n",
    "\n",
    "my_tuple = ('A','B')\n",
    "\n",
    "a,b = my_tuple\n",
    "\n",
    "will set a and b to the ordered elements in my_tuple. \n",
    "\n",
    "What are a few different ways that you can make a new tuple that combine our Dr. Seuss themed tuples from earlier?\n",
    "1. By creating lots of temporary variables (messy)\n",
    "1. By using a for loop (less messy)\n",
    "1. By using a list (best?)\n",
    "\n",
    "We want one continuous tuple of strings, **not a tuple of tuples** as in the bad example below"
   ]
  },
  {
   "cell_type": "code",
   "execution_count": 80,
   "metadata": {},
   "outputs": [
    {
     "name": "stdout",
     "output_type": "stream",
     "text": [
      "Example - a tuple of tuples\n",
      "((1, 'fish', 2, 'fish'), ('red', 'fish', 'blue', 'fish'))\n",
      "\n",
      "Method 1 - temporary variables (messy)\n",
      "(1, 'fish', 2, 'fish', 'red', 'fish', 'blue', 'fish')\n",
      "\n",
      "Method 2 - for loop (less messy)\n",
      "(1, 'fish', 2, 'fish', 'red', 'fish', 'blue', 'fish')\n",
      "\n",
      "Method 3 - list (best?)\n",
      "(1, 'fish', 2, 'fish', 'red', 'fish', 'blue', 'fish')\n",
      "\n",
      "Method 4 - or just use a +\n",
      "(1, 'fish', 2, 'fish', 'red', 'fish', 'blue', 'fish')\n",
      "\n",
      "Method 5 - += also works\n",
      "(1, 'fish', 2, 'fish', 'red', 'fish', 'blue', 'fish')\n"
     ]
    }
   ],
   "source": [
    "print(\"Example - a tuple of tuples\")\n",
    "a_simple_tuple = (1,'fish',2,'fish')\n",
    "another_tuple = ('red','fish','blue','fish')\n",
    "bad_tuple = (a_simple_tuple,annother_tuple)\n",
    "print(bad_tuple)\n",
    "\n",
    "print(\"\\nMethod 1 - temporary variables (messy)\")\n",
    "messyvar0 = a_simple_tuple[0]\n",
    "messyvar1 = a_simple_tuple[1]\n",
    "messyvar2 = a_simple_tuple[2]\n",
    "messyvar3 = a_simple_tuple[3]\n",
    "messyvar4 = another_tuple[0]\n",
    "messyvar5 = another_tuple[1]\n",
    "messyvar6 = another_tuple[2]\n",
    "messyvar7 = another_tuple[3]\n",
    "\n",
    "combined_tuple = (messyvar0,messyvar1,messyvar2,messyvar3,\n",
    "                  messyvar4,messyvar5,messyvar6,messyvar7)\n",
    "print(combined_tuple)\n",
    "\n",
    "print(\"\\nMethod 2 - for loop (less messy)\")\n",
    "\n",
    "combined_list = []\n",
    "\n",
    "for i in a_simple_tuple:\n",
    "    combined_list.append(i)\n",
    "for i in another_tuple:\n",
    "    combined_list.append(i)\n",
    "print(tuple(combined_list))\n",
    "\n",
    "print(\"\\nMethod 3 - list (best?)\")\n",
    "a_simple_list = list(a_simple_tuple) # make first tuple a list\n",
    "another_list = list(another_tuple) # make second tuple a list\n",
    "a_simple_list.extend(another_list) # add second list onto end of first\n",
    "combined_tuple_3 = tuple(a_simple_list) # convert list back to tuple\n",
    "print(combined_tuple_3) # is this how I was supposed to do it? seems bad\n",
    "\n",
    "\n",
    "print(\"\\nMethod 4 - or just use a +\")\n",
    "combined_tuple_4 = (a_simple_tuple + another_tuple)\n",
    "print(combined_tuple_4)\n",
    "\n",
    "print(\"\\nMethod 5 - += also works\")\n",
    "a_simple_tuple += another_tuple \n",
    "print(a_simple_tuple)\n",
    "\n",
    "# the += is basically a shortcut for x = x + y\n",
    "# you'd think that wouldn't work because tuples are supposed to be immutable,\n",
    "# but it does work because it destroys x and creates a new x\n",
    "# the immutability just means you can't go in and change elements of x"
   ]
  },
  {
   "cell_type": "markdown",
   "metadata": {},
   "source": [
    "## Exercise 3\n",
    "Dictionaries are meant to be called by their keys. The order of a dictionary's keys is **not-predictable** (even though the above example seems to stay in the order we put time in... this is not dependable because a hash is used to link the keys and the items). You can access all values in a dictionary using the values command.\n",
    "1. Create a Tuple of UC Schools in order of enrollment size (this should be challenging as this is not how dictionaries are **typically** used\n",
    " *  To get things started we have a sorted list of school enrollement \n",
    " *  We can loop through each school-size and determine which school it is a match to\n",
    " *  This we can append to a new list (schools_bySize)\n",
    " *  We have started things off below...\n",
    "1. BONUS: have them print together nicely :)"
   ]
  },
  {
   "cell_type": "code",
   "execution_count": 209,
   "metadata": {},
   "outputs": [
    {
     "name": "stdout",
     "output_type": "stream",
     "text": [
      "('San Francisco', 'Merced', 'Santa Cruz', 'Riverside', 'Santa Barbara', 'Irvine', 'San Diego', 'Berkeley', 'Davis ', 'Los Angeles')\n",
      "\n",
      "Completed, sorted school list:\n",
      "School:\t San Francisco \tNumber of students:\t 0\n",
      "School:\t Merced \tNumber of students:\t 6815\n",
      "School:\t Santa Cruz \tNumber of students:\t 16962\n",
      "School:\t Riverside \tNumber of students:\t 19799\n",
      "School:\t Santa Barbara \tNumber of students:\t 21574\n",
      "School:\t Irvine \tNumber of students:\t 27331\n",
      "School:\t San Diego \tNumber of students:\t 28127\n",
      "School:\t Berkeley \tNumber of students:\t 29310\n",
      "School:\t Davis  \tNumber of students:\t 29379\n",
      "School:\t Los Angeles \tNumber of students:\t 30873\n"
     ]
    }
   ],
   "source": [
    "# Create dictionary of UC schools and their (unsorted) enrollment numbers\n",
    "UC_Enrollment = {'Santa Barbara':21574,'Santa Cruz':16962,'Irvine': 27331,\n",
    "                 'Los Angeles':30873,'Merced':6815,'Riverside':19799,\n",
    "                 'San Diego':28127,'San Francisco':0,'Berkeley':29310,\n",
    "                 'Davis ':29379}\n",
    "# source: https://www.thoughtco.com/comparison-university-of-california-campuses-786974\n",
    "\n",
    "# Create list of sorted enrollment numbers\n",
    "sortedEnrollment = [0,6815,16962,19799,21574,27331,28127,29310,29379,30873]\n",
    "\n",
    "# Initialize empty list which will be filled by for loop\n",
    "schools_bySize = []\n",
    "\n",
    "# For each value in sorted list, find matching value in dictionary\n",
    "# and append school name to schools_bySize\n",
    "for i in sortedEnrollment:\n",
    "    for x in UC_Enrollment:\n",
    "        num_students = UC_Enrollment[x]\n",
    "        if i == num_students:\n",
    "            schools_bySize.append(x)\n",
    "\n",
    "# Convert list to tuple and print\n",
    "print(tuple(schools_bySize))\n",
    "\n",
    "# Create new dictionary\n",
    "UC_Enrollment_sorted = dict(zip(schools_bySize, sortedEnrollment))\n",
    "\n",
    "# Loop over dictionary and print it nicely\n",
    "print(\"\\nCompleted, sorted school list:\")\n",
    "for i in UC_Enrollment_sorted:\n",
    "    num_students = UC_Enrollment_sorted[i]\n",
    "    print(\"School:\\t\", i, \"\\tNumber of students:\\t\",num_students)"
   ]
  },
  {
   "cell_type": "markdown",
   "metadata": {},
   "source": [
    "# Exercise 4\n",
    "\n",
    "Write a module (in a .py file) that takes a list of 2 numbers and sorts them from low to high using a if...elif...else statement. \n",
    "\n",
    "Also include another function that will take a longer list of numbers (say ~5) and that uses a 'for' loop to compute the product of all numbers in the array. \n",
    "\n",
    "Bonus - for the first function that sorts the two numbers, do some checking to make sure that the input is exactly two numerical values and return gracefully with a helpful message if not. "
   ]
  },
  {
   "cell_type": "code",
   "execution_count": 218,
   "metadata": {},
   "outputs": [
    {
     "name": "stdout",
     "output_type": "stream",
     "text": [
      "[5, 28]\n",
      "21\n"
     ]
    }
   ],
   "source": [
    "#%%writefile tutorial002.py\n",
    "myList = [28,5]\n",
    "\n",
    "assert (len(myList) == 2), \"List does not contain exactly 2 values!\"\n",
    "\n",
    "if myList[0] < myList[1]:\n",
    "    print(myList)\n",
    "elif myList[0] > myList[1]:\n",
    "    myList.append(myList[0])\n",
    "    del myList[0]\n",
    "    print(myList)\n",
    "else: \n",
    "    print(\"Something's fishy\")\n",
    "\n",
    "    \n",
    "# Initialize new variable equal to 0    \n",
    "nums = 0\n",
    "\n",
    "# Loop through list of numbers and add each to above variable\n",
    "for i in [0,1,2,3,4,5]:\n",
    "    nums = nums + i\n",
    "    \n",
    "print(nums)\n"
   ]
  }
 ],
 "metadata": {
  "kernelspec": {
   "display_name": "Python 3",
   "language": "python",
   "name": "python3"
  },
  "language_info": {
   "codemirror_mode": {
    "name": "ipython",
    "version": 3
   },
   "file_extension": ".py",
   "mimetype": "text/x-python",
   "name": "python",
   "nbconvert_exporter": "python",
   "pygments_lexer": "ipython3",
   "version": "3.6.5"
  }
 },
 "nbformat": 4,
 "nbformat_minor": 2
}
