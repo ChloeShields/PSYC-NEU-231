{
 "cells": [
  {
   "cell_type": "markdown",
   "metadata": {},
   "source": [
    "## EXERCISES\n",
    "\n",
    "### Vector Multiplication\n",
    "1. Produce 2 vectors, one with integers in the range [5,10] and the other [15,20] using the np.arange function\n",
    "1. Without using any functions from the numpy module\n",
    "    1. Compute the outer product of those vectors \n",
    "    1. Compute the \"trace\" of the resulting matrix\n",
    "    \n",
    "    ![trace](https://wikimedia.org/api/rest_v1/media/math/render/svg/3e5b6e82272fc5eeca6d510388e0a2bd0a6c6463)\n",
    "    \n",
    "    \n",
    "Complete the same items using numpy operations"
   ]
  },
  {
   "cell_type": "code",
   "execution_count": 3,
   "metadata": {
    "scrolled": true
   },
   "outputs": [
    {
     "name": "stdout",
     "output_type": "stream",
     "text": [
      "Get the outer product WITHOUT using numpy\n",
      "\n",
      "Vector with range [5,10]:\n",
      " [5 6 7 8 9]\n",
      "\n",
      "Vector with range [15,20]:\n",
      " [15 16 17 18 19]\n",
      "\n",
      "Outer product of the above vectors:\n"
     ]
    },
    {
     "data": {
      "text/plain": [
       "[[75, 80, 85, 90, 95],\n",
       " [90, 96, 102, 108, 114],\n",
       " [105, 112, 119, 126, 133],\n",
       " [120, 128, 136, 144, 152],\n",
       " [135, 144, 153, 162, 171]]"
      ]
     },
     "execution_count": 3,
     "metadata": {},
     "output_type": "execute_result"
    }
   ],
   "source": [
    "print(\"Get the outer product WITHOUT using numpy\\n\")\n",
    "# import library\n",
    "import numpy as np\n",
    "\n",
    "# create 2 vectors with ranges [5,10] and [15,20]\n",
    "vectorDragon = np.arange(5,10)\n",
    "vectorWizard = np.arange(15,20)\n",
    "\n",
    "print(\"Vector with range [5,10]:\\n\",vectorDragon)\n",
    "print(\"\\nVector with range [15,20]:\\n\",vectorWizard)\n",
    "\n",
    "# create empty list to contain outer product\n",
    "outerProduct = []\n",
    "\n",
    "# boolean expression: if condition returns true, keep going\n",
    "# if not, print error code\n",
    "assert (len(vectorDragon)==len(vectorWizard)), \"Lists aren't the same length\"\n",
    "\n",
    "for i in range(len(vectorDragon)):\n",
    "    row = []\n",
    "    for j in range(len(vectorWizard)):\n",
    "        row.append(vectorDragon[i]*vectorWizard[j])\n",
    "    outerProduct.append(row)\n",
    "\n",
    "print(\"\\nOuter product of the above vectors:\") \n",
    "outerProduct"
   ]
  },
  {
   "cell_type": "code",
   "execution_count": 4,
   "metadata": {},
   "outputs": [
    {
     "name": "stdout",
     "output_type": "stream",
     "text": [
      "Get the trace WITHOUT using numpy\n",
      "\n",
      "\n",
      "Trace: 605\n"
     ]
    }
   ],
   "source": [
    "print(\"Get the trace WITHOUT using numpy\\n\")\n",
    "\n",
    "trace = 0\n",
    "\n",
    "for i in range(len(outerProduct)):\n",
    "    trace += (outerProduct[i][i])\n",
    "    \n",
    "print(\"\\nTrace:\",trace)"
   ]
  },
  {
   "cell_type": "code",
   "execution_count": 5,
   "metadata": {},
   "outputs": [
    {
     "name": "stdout",
     "output_type": "stream",
     "text": [
      "Get the outer product using numpy\n",
      "\n"
     ]
    },
    {
     "data": {
      "text/plain": [
       "array([[ 75,  80,  85,  90,  95],\n",
       "       [ 90,  96, 102, 108, 114],\n",
       "       [105, 112, 119, 126, 133],\n",
       "       [120, 128, 136, 144, 152],\n",
       "       [135, 144, 153, 162, 171]])"
      ]
     },
     "execution_count": 5,
     "metadata": {},
     "output_type": "execute_result"
    }
   ],
   "source": [
    "print(\"Get the outer product using numpy\\n\")\n",
    "\n",
    "outerProductNP = np.outer(vectorDragon,vectorWizard)\n",
    "outerProductNP"
   ]
  },
  {
   "cell_type": "code",
   "execution_count": 6,
   "metadata": {},
   "outputs": [
    {
     "name": "stdout",
     "output_type": "stream",
     "text": [
      "Get the trace using numpy\n",
      "\n",
      "Trace: 605\n"
     ]
    }
   ],
   "source": [
    "print(\"Get the trace using numpy\\n\")\n",
    "traceNP = np.trace(outerProductNP)\n",
    "print(\"Trace:\",traceNP)"
   ]
  },
  {
   "cell_type": "markdown",
   "metadata": {},
   "source": [
    "### Matrix Multiplication\n",
    "* Two matricies can be multiplied if their inner dimensions match (eg. 2x3 * 3x5 -> 2x5). The best rule for working with and mutliplying matricies is to remember (rows x columns). This applies to both the dimensions of a matrix (a 2x3 matrix has 2 rows and 3 columns) as well as multiplication (you multiply the rows of the first matrix by the columns of the second). \n",
    "\n",
    "* When multiplying two matricies of dimension (M x N)*(N x P) the resulting matrix is (M x P). The upper element of the reslting matrix is the inner (or dot) product of the first row of the first matrix and the first column of the second matrix\n",
    "\n",
    "![two matrices](https://wikimedia.org/api/rest_v1/media/math/render/svg/16b1644351bc2041175b19cbc65da03ef78130c7)\n",
    "\n",
    "![store product in matrix C](https://wikimedia.org/api/rest_v1/media/math/render/svg/00ac0c831c365b7424cc43239aae8cebea27c56c)\n",
    "\n",
    "![matrix multiply](https://wikimedia.org/api/rest_v1/media/math/render/svg/3cfeccef1c8c7e6da0ddf08daed8dbf3c6f50c5e)\n",
    "\n",
    "for i = 1, ..., n and j = 1, ..., p.\n",
    "\n",
    "1. Make two matrices of random numbers (A and B). A should be a 4x3 matrix and B should be a 3x4 matrix. Multiply A by B using (to a resulting matrix C) using:\n",
    "    1. a conventional for-loop\n",
    "    1. list comprehension\n",
    "    1. numpy operator\n",
    "    \n",
    "\n",
    "2. After you have C, pull out the upper quadrant using fancy indexing, and then replace the main diagonal (upper left to lower right) with 0s. "
   ]
  },
  {
   "cell_type": "code",
   "execution_count": 78,
   "metadata": {
    "scrolled": true
   },
   "outputs": [
    {
     "name": "stdout",
     "output_type": "stream",
     "text": [
      "Matrix A\n",
      " [[0.66536644 0.34468374 0.12640945]\n",
      " [0.12105282 0.97720848 0.13821877]\n",
      " [0.45843198 0.70861364 0.51056191]\n",
      " [0.250371   0.53533669 0.0704444 ]]\n",
      "\n",
      "Matrix B\n",
      " [[0.70131632 0.59004362 0.46753575 0.51946079]\n",
      " [0.71734868 0.83895174 0.83699016 0.55737428]\n",
      " [0.21057938 0.67951882 0.85399418 0.62533087]]\n",
      "\n",
      "Method 1 - For loop\n",
      "\n",
      "[0.7405099901433038, 0.7676658479687364, 0.7075324260507185, 0.6167973576996223]\n",
      "[0.8150015513898197, 0.9851794486866304, 0.992548413652407, 0.6939855184618187]\n",
      "[0.937342699421798, 1.2119239434699662, 1.2434528800993556, 0.9523705772684442]\n",
      "[0.574446474956708, 0.644719755057209, 0.6252880375639382, 0.4724918746202794]\n",
      "\n",
      "Method 2 - List comprehension\n",
      "\n",
      "[0.7405099901433038, 0.7676658479687364, 0.7075324260507185, 0.6167973576996223]\n",
      "[0.8150015513898197, 0.9851794486866304, 0.992548413652407, 0.6939855184618187]\n",
      "[0.937342699421798, 1.2119239434699662, 1.2434528800993556, 0.9523705772684442]\n",
      "[0.574446474956708, 0.644719755057209, 0.6252880375639382, 0.4724918746202794]\n",
      "\n",
      "Method 3 - Numpy operator\n",
      "\n",
      "[[0.74050999 0.76766585 0.70753243 0.61679736]\n",
      " [0.81500155 0.98517945 0.99254841 0.69398552]\n",
      " [0.9373427  1.21192394 1.24345288 0.95237058]\n",
      " [0.57444647 0.64471976 0.62528804 0.47249187]]\n"
     ]
    }
   ],
   "source": [
    "# When they say \"inner dimensions match,\" they mean the two values\n",
    "# on the inside literally. i.e. 2x3 * 3x5 --> the threes match\n",
    "\n",
    "# rows x columns -->\n",
    "# we're multiplying the ROWS of matrix A by the COLUMNS of matrix B\n",
    "# and then summing those values from one combined row and column\n",
    "\n",
    "# The result of matrix multiplication will have rows = rows of first matrix\n",
    "# and columns = columns of second matrix\n",
    "\n",
    "A = np.random.rand(4,3)\n",
    "B = np.random.rand(3,4)\n",
    "\n",
    "print(\"Matrix A\\n\",A)\n",
    "print(\"\\nMatrix B\\n\",B)\n",
    "\n",
    "print(\"\\nMethod 1 - For loop\\n\")\n",
    "\n",
    "C = [[0,0,0,0],\n",
    "     [0,0,0,0],\n",
    "     [0,0,0,0],\n",
    "     [0,0,0,0]]\n",
    "\n",
    "for i in range(len(A)):\n",
    "    for j in range(len(B[0])):\n",
    "        for k in range(len(B)):\n",
    "            C[i][j] += A[i][k] * B[k][j]\n",
    "\n",
    "for i in C:\n",
    "    print(i)\n",
    "            \n",
    "print(\"\\nMethod 2 - List comprehension\\n\")\n",
    "\n",
    "C = [[sum(A*B for A,B in zip(A_row,B_col)) for B_col in zip(*B)] for A_row in A]\n",
    "\n",
    "for i in C:\n",
    "    print(i)\n",
    "\n",
    "print(\"\\nMethod 3 - Numpy operator\\n\")\n",
    "\n",
    "\n",
    "print(np.dot(A,B))"
   ]
  },
  {
   "cell_type": "code",
   "execution_count": 79,
   "metadata": {},
   "outputs": [
    {
     "name": "stdout",
     "output_type": "stream",
     "text": [
      "Convert C from a list to a matrix\n",
      "\n",
      "[[0.74050999 0.76766585 0.70753243 0.61679736]\n",
      " [0.81500155 0.98517945 0.99254841 0.69398552]\n",
      " [0.9373427  1.21192394 1.24345288 0.95237058]\n",
      " [0.57444647 0.64471976 0.62528804 0.47249187]]\n",
      "\n",
      "Pull out upper quadrant using fancy indexing\n",
      "\n",
      "[[0.74050999 0.76766585]\n",
      " [0.81500155 0.98517945]]\n",
      "\n",
      "Replace main diagonal values with 0s\n",
      "\n",
      "[[0.         0.76766585]\n",
      " [0.81500155 0.        ]]\n"
     ]
    }
   ],
   "source": [
    "print(\"Convert C from a list to a matrix\\n\")\n",
    "# Convert to matrix (C was previously a list, so indexing didn't work)\n",
    "C = np.array(C)\n",
    "print(C)\n",
    "\n",
    "print(\"\\nPull out upper quadrant using fancy indexing\\n\")\n",
    "# Index from position 0,0 to 1,1, taking all rows\n",
    "C = C[[0,1]][:,[0,1]]\n",
    "print(C)\n",
    "\n",
    "print(\"\\nReplace main diagonal values with 0s\\n\")\n",
    "# Use for loop to index the diagonal values in C ([0][0])\n",
    "for i in range(len(C)):\n",
    "    C[i][i] = 0\n",
    "print(C)"
   ]
  }
 ],
 "metadata": {
  "kernelspec": {
   "display_name": "Python 3",
   "language": "python",
   "name": "python3"
  },
  "language_info": {
   "codemirror_mode": {
    "name": "ipython",
    "version": 3
   },
   "file_extension": ".py",
   "mimetype": "text/x-python",
   "name": "python",
   "nbconvert_exporter": "python",
   "pygments_lexer": "ipython3",
   "version": "3.6.5"
  }
 },
 "nbformat": 4,
 "nbformat_minor": 2
}
