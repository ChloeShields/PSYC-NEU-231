{
 "cells": [
  {
   "cell_type": "markdown",
   "metadata": {},
   "source": [
    "# In class exercises for 11.21.2018 (Filtering)"
   ]
  },
  {
   "cell_type": "markdown",
   "metadata": {},
   "source": [
    "## First import data from eeg_data00.npz"
   ]
  },
  {
   "cell_type": "code",
   "execution_count": 6,
   "metadata": {},
   "outputs": [],
   "source": [
    "# first import the modules that you'll need. \n",
    "import numpy as np\n",
    "import scipy.io as sio\n",
    "import matplotlib.pyplot as plt\n",
    "\n",
    "# import our sinc filter implementation function...\n",
    "import my_sinc_filt as msf\n",
    "\n",
    "# also define the default font we'll use for figures. \n",
    "fig_font = {'fontname':'Arial', 'size':'20'}"
   ]
  },
  {
   "cell_type": "markdown",
   "metadata": {},
   "source": [
    "## Just like in the first FFT tutorial load eeg_data00.npz so that we have an EEG data set to play with\n",
    "* you should find that it has three arrays: data, tx, and sr (with 'data' a #trials x # timepoints array containing the EEG data, the time of each data acquisition in tx, and the sample rate stored as sr).  "
   ]
  },
  {
   "cell_type": "code",
   "execution_count": 7,
   "metadata": {},
   "outputs": [
    {
     "name": "stdout",
     "output_type": "stream",
     "text": [
      "Shape of the big eeg data set:  (960, 876)\n",
      "Sample rate:  250\n",
      "\n",
      "There are 960 trials (rows)\n",
      "There are 876 timepoints per trial (columns)\n"
     ]
    }
   ],
   "source": [
    "# load the data...\n",
    "eeg = np.load('eeg_data00.npz')\n",
    "\n",
    "# get the different arrays like this...kind of like a structure in matlab. \n",
    "eeg['data']\n",
    "eeg['sr']\n",
    "eeg['tx']\n",
    "\n",
    "# and can query the attributes of the data like this...which will tell us that there 960 trials and 876 timepoints per trial sampled\n",
    "# at 250Hz\n",
    "print('Shape of the big eeg data set: ', eeg['data'].shape)\n",
    "print('Sample rate: ', eeg['sr'])\n",
    "\n",
    "# and if you want to save some typing, especially because we only have a few variables, you reassign the different arrays like this\n",
    "data = eeg['data']\n",
    "sr = eeg['sr']\n",
    "tx = eeg['tx']\n",
    "# now you can just write data instead of eeg['data'] (and can for tx and sr as well...)\n",
    "\n",
    "print(\"\\nThere are\",data.shape[0],\"trials (rows)\")\n",
    "print(\"There are\",data.shape[1],\"timepoints per trial (columns)\")"
   ]
  },
  {
   "cell_type": "markdown",
   "metadata": {},
   "source": [
    "## Extract the data from time 0 until time 2000\n",
    "* hint: you can use boolean indexing by selecting the columns from the 'data' matrix that meet: (tx>=0)  & (tx<2000)\n",
    "* while you're at it, go ahead and grab the timepoints corresponding to that interval as well"
   ]
  },
  {
   "cell_type": "code",
   "execution_count": 8,
   "metadata": {
    "scrolled": true
   },
   "outputs": [],
   "source": [
    "# Create a time window, just like in Tutorial_042_Exercises\n",
    "window = (tx >= 0) & (tx < 2000)\n",
    "\n",
    "# Select data matching the window\n",
    "dataWindow = data[:,window]\n",
    "\n",
    "# Select tx matching the window\n",
    "timeWindow = tx[window]"
   ]
  },
  {
   "cell_type": "markdown",
   "metadata": {},
   "source": [
    "## Then FFT each trial and take a look at the average power across frequencies\n",
    "* FFT each trial \n",
    "* Then compute the amplitude on each trial\n",
    "* Then compute the average amplitude across all trials"
   ]
  },
  {
   "cell_type": "code",
   "execution_count": 99,
   "metadata": {},
   "outputs": [
    {
     "data": {
      "image/png": "[encoded data removed]",
      "text/plain": [
       "<Figure size 432x288 with 1 Axes>"
      ]
     },
     "metadata": {},
     "output_type": "display_data"
    }
   ],
   "source": [
    "# Get the shape of the data\n",
    "rows,columns = dataWindow.shape\n",
    "\n",
    "# FFT each trial\n",
    "dataFFT = np.fft.rfft(dataWindow, axis = 1)\n",
    "\n",
    "# Get amplitude on each trial\n",
    "amplitude = (np.abs(dataFFT) / columns) * 2\n",
    "\n",
    "# Get average amplitude across trials\n",
    "amplitudeAcrossTrials = np.mean(amplitude, axis = 0)\n",
    "\n",
    "# Get frequency\n",
    "frequency = np.fft.rfftfreq(columns, 1 / sr)\n",
    "\n",
    "# Plot \n",
    "plt.plot(frequency, amplitudeAcrossTrials, \"g\")\n",
    "plt.xlabel(\"Frequency (hz)\", **fig_font)\n",
    "plt.ylabel(\"Amplitude\", **fig_font)\n",
    "plt.show()"
   ]
  },
  {
   "cell_type": "markdown",
   "metadata": {},
   "source": [
    "## Notice that there are two prominent features in the freq domain representation. Make a lp filter that gets rid of power > 20Hz (you'll know if it worked if you get rid of the spike at 60Hz)\n",
    "* Because our apply_filter function isn't optimized to work on matrices (we could do that, but haven't) you will need to loop and apply filter to each trial"
   ]
  },
  {
   "cell_type": "code",
   "execution_count": 75,
   "metadata": {},
   "outputs": [],
   "source": [
    "# About the custom-made define_filt() function:\n",
    "#    Args:\n",
    "#        fc (float): cutoff frequency, as a fraction of sampling rate\n",
    "#        b (float): transition band, as a fraction of sampling rate\n",
    "#        window (str): window sinc filter, options 'none', 'blackman', 'hanning'\n",
    "#        type_filt (str): low pass or high pass filter, options 'lp', 'hp'\n",
    "#     Returns:\n",
    "#         n (int array): span of filter\n",
    "#         sinc (float array): sinc filter in time domain\n",
    "\n",
    "# About custom-made apply_filter() function:\n",
    "#    input_sig = timeseries to be filtered\n",
    "#    input_filter = filter to be applied\n",
    "\n",
    "# Define maximum desired frequency\n",
    "maxFrequency = 20\n",
    "\n",
    "# Create filter arguments\n",
    "cutoffFrequency = maxFrequency / sr # converts hz to cutoff frequency\n",
    "transitionBand = 0.1\n",
    "windowSincFilter = \"blackman\"\n",
    "filterType = \"lp\"\n",
    "\n",
    "# Generate a low pass filter using our previously defined function\n",
    "filterSpan, sincFilter = msf.define_filt(fc = cutoffFrequency, \n",
    "                               b = transitionBand, \n",
    "                               window = windowSincFilter, \n",
    "                               type_filt = filterType)\n",
    "\n",
    "# Create empty matrix to fill with loop below\n",
    "dataFiltered = np.zeros((rows,columns))\n",
    "\n",
    "# Loop through trials to apply filter with our previously defined function\n",
    "for row in np.arange(rows):\n",
    "    dataFiltered[row,:] = msf.apply_filt(input_sig = dataWindow[row,:],\n",
    "                                         input_filter = sincFilter)"
   ]
  },
  {
   "cell_type": "markdown",
   "metadata": {},
   "source": [
    "## Then FFT it again to see if you got rid of the hf components of the signal"
   ]
  },
  {
   "cell_type": "code",
   "execution_count": 100,
   "metadata": {},
   "outputs": [
    {
     "data": {
      "image/png": "[encoded data removed]",
      "text/plain": [
       "<Figure size 432x288 with 1 Axes>"
      ]
     },
     "metadata": {},
     "output_type": "display_data"
    },
    {
     "name": "stdout",
     "output_type": "stream",
     "text": [
      "The spikes at 60hz and above are now gone!\n"
     ]
    }
   ],
   "source": [
    "# Get the shape of the data\n",
    "rows,columns = dataFiltered.shape\n",
    "\n",
    "# FFT each trial\n",
    "dataFilteredFFT = np.fft.rfft(dataFiltered, axis = 1)\n",
    "\n",
    "# Get amplitude on each trial\n",
    "amplitude = (np.abs(dataFilteredFFT) / columns) * 2\n",
    "\n",
    "# Get average amplitude across trials\n",
    "amplitudeAcrossTrials = np.mean(amplitude, axis = 0)\n",
    "\n",
    "# Get frequency\n",
    "frequency = np.fft.rfftfreq(columns, 1 / sr)\n",
    "\n",
    "# Plot \n",
    "plt.plot(frequency, amplitudeAcrossTrials, \"g\")\n",
    "plt.xlabel(\"Frequency (hz)\", **fig_font)\n",
    "plt.ylabel(\"Amplitude\", **fig_font)\n",
    "plt.show()\n",
    "\n",
    "print(\"The spikes at 60hz and above are now gone!\")"
   ]
  },
  {
   "cell_type": "markdown",
   "metadata": {},
   "source": [
    "## Now design a band pass filter that gets rid of everything outside of the 6-14Hz range (where that big bump is...)\n",
    "* To design a band pass filter, make a lp filter (with an appropriate fc), then make a hp filter (with an appropriate fc)\n",
    "* use np.convolve to combine the two filters \n",
    "* then call the apply_filt function\n",
    "* Then you should be left with only those frequencies that pass the lp and the hp filters (i.e. a band pass filter)!"
   ]
  },
  {
   "cell_type": "code",
   "execution_count": 77,
   "metadata": {},
   "outputs": [],
   "source": [
    "# Define the range we want to filter out\n",
    "bandPassRange = [6, 14]\n",
    "\n",
    "# Low pass filter parameters\n",
    "cutoffFrequencyLP = bandPassRange[0] / sr\n",
    "transitionBandLP = 0.1\n",
    "windowSincFilterLP = \"blackman\"\n",
    "filterTypeLP = \"lp\"\n",
    "\n",
    "# High pass filter parameters\n",
    "cutoffFrequencyHP = bandPassRange[1] / sr\n",
    "transitionBandHP = 0.1\n",
    "windowSincFilterHP = \"blackman\"\n",
    "filterTypeHP = \"hp\"\n",
    "\n",
    "# Build low pass filter\n",
    "filterSpan, sincFilterLP = msf.define_filt(fc = cutoffFrequencyLP,\n",
    "                                           b = transitionBandLP,\n",
    "                                           window = windowSincFilterLP,\n",
    "                                           type_filt = filterTypeLP)\n",
    "\n",
    "# Build high pass filter\n",
    "filterSpan, sincFilterHP = msf.define_filt(fc = cutoffFrequencyHP,\n",
    "                                           b = transitionBandHP,\n",
    "                                           window = windowSincFilterHP,\n",
    "                                           type_filt = filterTypeHP)\n",
    "\n",
    "# Combine the filters\n",
    "bandPassFilter = np.convolve(sincFilterLP, sincFilterHP)\n",
    "\n",
    "# Create empty matrix to fill with loop below\n",
    "dataBandPassFilter = np.zeros((rows,columns))\n",
    "\n",
    "# Loop through trials to apply filter\n",
    "for row in np.arange(rows):\n",
    "    dataBandPassFilter[row,:] = msf.apply_filt(input_sig = dataWindow[row,:],\n",
    "                                               input_filter = bandPassFilter)"
   ]
  },
  {
   "cell_type": "markdown",
   "metadata": {},
   "source": [
    "## Here's what the band pass filter looks like!"
   ]
  },
  {
   "cell_type": "code",
   "execution_count": 84,
   "metadata": {},
   "outputs": [
    {
     "data": {
      "image/png": "[encoded data removed]",
      "text/plain": [
       "<Figure size 432x288 with 1 Axes>"
      ]
     },
     "metadata": {},
     "output_type": "display_data"
    }
   ],
   "source": [
    "plt.plot(bandPassFilter, \"r\")\n",
    "plt.title(\"Band pass filter for 6-14hz\")\n",
    "plt.show()"
   ]
  },
  {
   "cell_type": "markdown",
   "metadata": {},
   "source": [
    "## Now FFT and look at filtered signal"
   ]
  },
  {
   "cell_type": "code",
   "execution_count": 101,
   "metadata": {},
   "outputs": [
    {
     "data": {
      "image/png": "[encoded data removed]",
      "text/plain": [
       "<Figure size 432x288 with 1 Axes>"
      ]
     },
     "metadata": {},
     "output_type": "display_data"
    },
    {
     "name": "stdout",
     "output_type": "stream",
     "text": [
      "Now we're just left with one little spike at ~15hz\n"
     ]
    }
   ],
   "source": [
    "# Get the shape of the data\n",
    "rows,columns = dataBandPassFilter.shape\n",
    "\n",
    "# FFT each trial\n",
    "dataBandPassFilterFFT = np.fft.rfft(dataBandPassFilter, axis = 1)\n",
    "\n",
    "# Get amplitude on each trial\n",
    "amplitude = (np.abs(dataBandPassFilterFFT) / columns) * 2\n",
    "\n",
    "# Get average amplitude across trials\n",
    "amplitudeAcrossTrials = np.mean(amplitude, axis = 0)\n",
    "\n",
    "# Get frequency\n",
    "frequency = np.fft.rfftfreq(columns, 1 / sr)\n",
    "\n",
    "# Plot \n",
    "plt.plot(frequency, amplitudeAcrossTrials, \"g\")\n",
    "plt.xlabel(\"Frequency (hz)\", **fig_font)\n",
    "plt.ylabel(\"Amplitude\", **fig_font)\n",
    "plt.show()\n",
    "\n",
    "print(\"Now we're just left with one little spike at ~15hz\")"
   ]
  },
  {
   "cell_type": "markdown",
   "metadata": {},
   "source": [
    "## You can also make a band-stop filter using a similar logic\n",
    "* Instead of convolving the lp and the hp filters, you can add them together\n",
    "* Use this to selectively get rid of the 60Hz line noise in the data by generated a band-stop filter over 50-70Hz"
   ]
  },
  {
   "cell_type": "code",
   "execution_count": 91,
   "metadata": {},
   "outputs": [],
   "source": [
    "# Define the range we want to filter out\n",
    "bandStopRange = [50, 70]\n",
    "\n",
    "# Low pass filter parameters\n",
    "cutoffFrequencyLP = bandStopRange[0] / sr\n",
    "transitionBandLP = 0.1\n",
    "windowSincFilterLP = \"blackman\"\n",
    "filterTypeLP = \"lp\"\n",
    "\n",
    "# High pass filter parameters\n",
    "cutoffFrequencyHP = bandStopRange[1] / sr\n",
    "transitionBandHP = 0.1\n",
    "windowSincFilterHP = \"blackman\"\n",
    "filterTypeHP = \"hp\"\n",
    "\n",
    "# Build low pass filter\n",
    "filterSpan, sincFilterLP = msf.define_filt(fc = cutoffFrequencyLP,\n",
    "                                           b = transitionBandLP,\n",
    "                                           window = windowSincFilterLP,\n",
    "                                           type_filt = filterTypeLP)\n",
    "\n",
    "# Build high pass filter\n",
    "filterSpan, sincFilterHP = msf.define_filt(fc = cutoffFrequencyHP,\n",
    "                                           b = transitionBandHP,\n",
    "                                           window = windowSincFilterHP,\n",
    "                                           type_filt = filterTypeHP)\n",
    "\n",
    "# Combine the filters (by adding, rather than convolving)\n",
    "bandStopFilter = sincFilterLP + sincFilterHP\n",
    "\n",
    "# Create empty matrix to fill with loop below\n",
    "dataBandStopFilter = np.zeros((rows,columns))\n",
    "\n",
    "# Loop through trials to apply filter\n",
    "for row in np.arange(rows):\n",
    "    dataBandStopFilter[row,:] = msf.apply_filt(input_sig = dataWindow[row,:],\n",
    "                                               input_filter = bandStopFilter)"
   ]
  },
  {
   "cell_type": "markdown",
   "metadata": {},
   "source": [
    "## Here's what the band-stop filter looks like!"
   ]
  },
  {
   "cell_type": "code",
   "execution_count": 94,
   "metadata": {},
   "outputs": [
    {
     "data": {
      "image/png": "[encoded data removed]",
      "text/plain": [
       "<Figure size 432x288 with 1 Axes>"
      ]
     },
     "metadata": {},
     "output_type": "display_data"
    }
   ],
   "source": [
    "plt.plot(bandStopFilter, \"r\")\n",
    "plt.title(\"Band stop filter for 50-70hz\")\n",
    "plt.show()"
   ]
  },
  {
   "cell_type": "markdown",
   "metadata": {},
   "source": [
    "## Then FFT and look at filtered signal in the frequency domain"
   ]
  },
  {
   "cell_type": "code",
   "execution_count": 102,
   "metadata": {},
   "outputs": [
    {
     "data": {
      "image/png": "[encoded data removed]",
      "text/plain": [
       "<Figure size 432x288 with 1 Axes>"
      ]
     },
     "metadata": {},
     "output_type": "display_data"
    },
    {
     "name": "stdout",
     "output_type": "stream",
     "text": [
      "Now the spike at 60hz is greatly diminished!\n"
     ]
    }
   ],
   "source": [
    "# Get the shape of the data\n",
    "rows,columns = dataBandStopFilter.shape\n",
    "\n",
    "# FFT each trial\n",
    "dataBandStopFilterFFT = np.fft.rfft(dataBandStopFilter, axis = 1)\n",
    "\n",
    "# Get amplitude on each trial\n",
    "amplitude = (np.abs(dataBandStopFilterFFT) / columns) * 2\n",
    "\n",
    "# Get average amplitude across trials\n",
    "amplitudeAcrossTrials = np.mean(amplitude, axis = 0)\n",
    "\n",
    "# Get frequency\n",
    "frequency = np.fft.rfftfreq(columns, 1 / sr)\n",
    "\n",
    "# Plot \n",
    "plt.plot(frequency, amplitudeAcrossTrials, \"g\")\n",
    "plt.xlabel(\"Frequency (hz)\", **fig_font)\n",
    "plt.ylabel(\"Amplitude\", **fig_font)\n",
    "plt.show()\n",
    "\n",
    "print(\"Now the spike at 60hz is greatly diminished!\")"
   ]
  }
 ],
 "metadata": {
  "kernelspec": {
   "display_name": "Python 3",
   "language": "python",
   "name": "python3"
  },
  "language_info": {
   "codemirror_mode": {
    "name": "ipython",
    "version": 3
   },
   "file_extension": ".py",
   "mimetype": "text/x-python",
   "name": "python",
   "nbconvert_exporter": "python",
   "pygments_lexer": "ipython3",
   "version": "3.6.5"
  }
 },
 "nbformat": 4,
 "nbformat_minor": 2
}
